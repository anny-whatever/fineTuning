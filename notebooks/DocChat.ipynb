{
 "cells": [
  {
   "cell_type": "code",
   "execution_count": 1,
   "id": "098075de",
   "metadata": {},
   "outputs": [
    {
     "name": "stderr",
     "output_type": "stream",
     "text": [
      "/home/anny/Project/fineTuning/venv/lib/python3.12/site-packages/tqdm/auto.py:21: TqdmWarning: IProgress not found. Please update jupyter and ipywidgets. See https://ipywidgets.readthedocs.io/en/stable/user_install.html\n",
      "  from .autonotebook import tqdm as notebook_tqdm\n"
     ]
    }
   ],
   "source": [
    "from datasets import Dataset\n",
    "import pandas as pd\n",
    "import torch\n",
    "import json\n",
    "import os\n"
   ]
  },
  {
   "cell_type": "code",
   "execution_count": 2,
   "id": "477d524e",
   "metadata": {},
   "outputs": [
    {
     "name": "stdout",
     "output_type": "stream",
     "text": [
      "🦥 Unsloth: Will patch your computer to enable 2x faster free finetuning.\n",
      "#### Unsloth: `hf_xet==1.1.10` and `ipykernel>6.30.1` breaks progress bars. Disabling for now in XET.\n",
      "#### Unsloth: To re-enable progress bars, please downgrade to `ipykernel==6.30.1` or wait for a fix to\n",
      "https://github.com/huggingface/xet-core/issues/526\n",
      "🦥 Unsloth Zoo will now patch everything to make training faster!\n",
      "==((====))==  Unsloth 2025.10.7: Fast Gemma3 patching. Transformers: 4.56.2.\n",
      "   \\\\   /|    NVIDIA GeForce RTX 4060. Num GPUs = 1. Max memory: 7.996 GB. Platform: Linux.\n",
      "O^O/ \\_/ \\    Torch: 2.8.0+cu128. CUDA: 8.9. CUDA Toolkit: 12.8. Triton: 3.4.0\n",
      "\\        /    Bfloat16 = TRUE. FA [Xformers = 0.0.32.post2. FA2 = False]\n",
      " \"-____-\"     Free license: http://github.com/unslothai/unsloth\n",
      "Unsloth: Fast downloading is enabled - ignore downloading bars which are red colored!\n",
      "Unsloth: Gemma3 does not support SDPA - switching to fast eager.\n"
     ]
    }
   ],
   "source": [
    "from unsloth import FastLanguageModel\n",
    "\n",
    "# Optimal sequence length for medical prescriptions (short responses)\n",
    "max_seq_length = 1024\n",
    "\n",
    "model, tokenizer = FastLanguageModel.from_pretrained(\n",
    "    model_name=\"unsloth/gemma-3-4b-it-unsloth-bnb-4bit\",\n",
    "    max_seq_length=max_seq_length,\n",
    "    dtype=None,  # Auto-detect best dtype\n",
    "    load_in_4bit=True,  # 4-bit quantization for efficiency\n",
    ")"
   ]
  },
  {
   "cell_type": "code",
   "execution_count": 3,
   "id": "38087afe",
   "metadata": {},
   "outputs": [
    {
     "name": "stdout",
     "output_type": "stream",
     "text": [
      "Unsloth: Making `base_model.model.model.vision_tower.vision_model` require gradients\n"
     ]
    }
   ],
   "source": [
    "model = FastLanguageModel.get_peft_model(\n",
    "    model,\n",
    "    r = 16,  # LoRA rank - balanced for medical precision\n",
    "    target_modules = [\"q_proj\", \"k_proj\", \"v_proj\", \"o_proj\", \"gate_proj\", \"up_proj\", \"down_proj\"],\n",
    "    lora_alpha = 16,  # Scaling factor (typically = r)\n",
    "    lora_dropout = 0,  # 0 is optimized for Unsloth\n",
    "    bias = \"none\",  # \"none\" is optimized\n",
    "    use_gradient_checkpointing = \"unsloth\",  # 30% less VRAM\n",
    "    random_state = 42,\n",
    "    use_rslora = False,\n",
    "    loftq_config = None,\n",
    ")\n",
    "\n"
   ]
  },
  {
   "cell_type": "code",
   "execution_count": 4,
   "id": "244d70a7",
   "metadata": {},
   "outputs": [],
   "source": [
    "from unsloth.chat_templates import get_chat_template\n",
    "\n",
    "tokenizer = get_chat_template(\n",
    "    tokenizer,\n",
    "    chat_template = \"gemma\",  # Gemma-2 uses \"gemma\" template\n",
    ")"
   ]
  },
  {
   "cell_type": "code",
   "execution_count": 5,
   "id": "c4912202",
   "metadata": {},
   "outputs": [
    {
     "name": "stdout",
     "output_type": "stream",
     "text": [
      "Loaded 100 training examples\n",
      "Sample: {'patient_input': 'I have nausea and vomiting.', 'doctor_output': {'prescription_text': 'You may have Gastric discomfort. Take Domperidone 10mg as prescribed for relief.', 'medicine_name': 'Domperidone 10mg', 'dose_size': '1 tablet', 'frequency': 'Before meals', 'duration': '3 days'}}\n"
     ]
    }
   ],
   "source": [
    "# Load clinic chatbot training data\n",
    "data_path = os.path.join(os.path.dirname(os.getcwd()), 'data', 'clinic_chatbot_training_data.json')\n",
    "with open(data_path, 'r') as f:\n",
    "    clinic_data = json.load(f)\n",
    "\n",
    "print(f\"Loaded {len(clinic_data)} training examples\")\n",
    "print(\"Sample:\", clinic_data[0])"
   ]
  },
  {
   "cell_type": "code",
   "execution_count": 6,
   "id": "bd0fc43a",
   "metadata": {},
   "outputs": [
    {
     "name": "stdout",
     "output_type": "stream",
     "text": [
      "Sample with speech field: {'patient_input': 'I have nausea and vomiting.', 'doctor_output': {'prescription_text': 'You may have Gastric discomfort. Take Domperidone 10mg as prescribed for relief.', 'medicine_name': 'Domperidone 10mg', 'dose_size': '1 tablet', 'frequency': 'Before meals', 'duration': '3 days', 'speech': \"You may have Gastric discomfort. Take Domperidone 10mg as prescribed for relief. I'm prescribing Domperidone 10mg. Please take 1 tablet before meals for 3 days. Make sure to follow the dosage instructions carefully and contact me if symptoms persist or worsen.\"}}\n"
     ]
    }
   ],
   "source": [
    "\n",
    "# Add \"speech\" field to doctor_output - natural language explanation\n",
    "def add_speech_field(item):\n",
    "    \"\"\"Convert structured prescription into natural language speech\"\"\"\n",
    "    doc_out = item['doctor_output']\n",
    "    \n",
    "    # Generate natural speech from prescription\n",
    "    speech = (\n",
    "        f\"{doc_out['prescription_text']} \"\n",
    "        f\"I'm prescribing {doc_out['medicine_name']}. \"\n",
    "        f\"Please take {doc_out['dose_size']} {doc_out['frequency'].lower()} \"\n",
    "        f\"for {doc_out['duration']}. \"\n",
    "        f\"Make sure to follow the dosage instructions carefully and contact me if symptoms persist or worsen.\"\n",
    "    )\n",
    "    \n",
    "    # Add speech field to doctor_output\n",
    "    doc_out['speech'] = speech\n",
    "    \n",
    "    return {\n",
    "        \"patient_input\": item['patient_input'],\n",
    "        \"doctor_output\": doc_out\n",
    "    }\n",
    "\n",
    "# Process all data to add speech field\n",
    "processed_data = [add_speech_field(item) for item in clinic_data]\n",
    "print(\"Sample with speech field:\", processed_data[0])\n"
   ]
  },
  {
   "cell_type": "code",
   "execution_count": 7,
   "id": "a76d5bb6",
   "metadata": {},
   "outputs": [
    {
     "name": "stdout",
     "output_type": "stream",
     "text": [
      "Dataset size: 100\n",
      "First conversation: {'conversation': [{'content': 'You are a professional medical doctor. When a patient describes their symptoms, provide a structured prescription response in JSON format with: prescription_text, medicine_name, dose_size, frequency, duration, and speech (natural language explanation).', 'role': 'system'}, {'content': 'I have nausea and vomiting.', 'role': 'user'}, {'content': '{\\n  \"prescription_text\": \"You may have Gastric discomfort. Take Domperidone 10mg as prescribed for relief.\",\\n  \"medicine_name\": \"Domperidone 10mg\",\\n  \"dose_size\": \"1 tablet\",\\n  \"frequency\": \"Before meals\",\\n  \"duration\": \"3 days\",\\n  \"speech\": \"You may have Gastric discomfort. Take Domperidone 10mg as prescribed for relief. I\\'m prescribing Domperidone 10mg. Please take 1 tablet before meals for 3 days. Make sure to follow the dosage instructions carefully and contact me if symptoms persist or worsen.\"\\n}', 'role': 'assistant'}]}\n"
     ]
    }
   ],
   "source": [
    "# Convert to chat format for training\n",
    "def convert_to_chat_format(item):\n",
    "    \"\"\"Convert clinic data to chat conversation format\"\"\"\n",
    "    \n",
    "    # Format doctor output as JSON string for the model to learn\n",
    "    doctor_response = json.dumps(item['doctor_output'], indent=2)\n",
    "    \n",
    "    conversation = [\n",
    "        {\n",
    "            \"role\": \"system\",\n",
    "            \"content\": \"You are a professional medical doctor. When a patient describes their symptoms, provide a structured prescription response in JSON format with: prescription_text, medicine_name, dose_size, frequency, duration, and speech (natural language explanation).\"\n",
    "        },\n",
    "        {\n",
    "            \"role\": \"user\",\n",
    "            \"content\": item['patient_input']\n",
    "        },\n",
    "        {\n",
    "            \"role\": \"assistant\",\n",
    "            \"content\": doctor_response\n",
    "        }\n",
    "    ]\n",
    "    \n",
    "    return {\"conversation\": conversation}\n",
    "\n",
    "# Convert all data\n",
    "chat_data = [convert_to_chat_format(item) for item in processed_data]\n",
    "\n",
    "# Create Dataset\n",
    "dataset = Dataset.from_list(chat_data)\n",
    "print(f\"Dataset size: {len(dataset)}\")\n",
    "print(\"First conversation:\", dataset[0])"
   ]
  },
  {
   "cell_type": "code",
   "execution_count": 8,
   "id": "d0890a04",
   "metadata": {},
   "outputs": [
    {
     "name": "stderr",
     "output_type": "stream",
     "text": [
      "Map: 100%|██████████| 100/100 [00:00<00:00, 5983.83 examples/s]"
     ]
    },
    {
     "name": "stdout",
     "output_type": "stream",
     "text": [
      "Formatted prompt sample:\n",
      "<bos><start_of_turn>user\n",
      "You are a professional medical doctor. When a patient describes their symptoms, provide a structured prescription response in JSON format with: prescription_text, medicine_name, dose_size, frequency, duration, and speech (natural language explanation). I have nausea and vomiting.<end_of_turn>\n",
      "<start_of_turn>model\n",
      "{\n",
      "  \"prescription_text\": \"You may have Gastric discomfort. Take Domperidone 10mg as prescribed for relief.\",\n",
      "  \"medicine_name\": \"Domperidone 10mg\",\n",
      "  \"dose_size...\n"
     ]
    },
    {
     "name": "stderr",
     "output_type": "stream",
     "text": [
      "\n"
     ]
    }
   ],
   "source": [
    "# Format conversations with chat template\n",
    "def formatting_prompts_func(examples):\n",
    "    convos = examples[\"conversation\"]\n",
    "    texts = [\n",
    "        tokenizer.apply_chat_template(convo, tokenize=False, add_generation_prompt=False)\n",
    "        for convo in convos\n",
    "    ]\n",
    "    return {\"text\": texts}\n",
    "\n",
    "dataset = dataset.map(formatting_prompts_func, batched=True)\n",
    "print(\"Formatted prompt sample:\")\n",
    "print(dataset[0]['text'][:500] + \"...\")"
   ]
  },
  {
   "cell_type": "code",
   "execution_count": 9,
   "id": "e1be192f",
   "metadata": {},
   "outputs": [
    {
     "name": "stderr",
     "output_type": "stream",
     "text": [
      "Unsloth: Tokenizing [\"text\"] (num_proc=20): 100%|██████████| 100/100 [00:09<00:00, 10.02 examples/s]\n"
     ]
    }
   ],
   "source": [
    "from trl import SFTTrainer, SFTConfig\n",
    "\n",
    "# Optimal training configuration for medical data\n",
    "trainer = SFTTrainer(\n",
    "    model = model,\n",
    "    tokenizer = tokenizer,\n",
    "    train_dataset = dataset,\n",
    "    eval_dataset = None,\n",
    "    args = SFTConfig(\n",
    "        dataset_text_field = \"text\",\n",
    "        per_device_train_batch_size = 2,  # Lower for medical precision\n",
    "        gradient_accumulation_steps = 4,  # Effective batch size = 8\n",
    "        warmup_steps = 10,  # 10% of total steps (~50 examples)\n",
    "        num_train_epochs = 3,  # Multiple epochs for small dataset\n",
    "        learning_rate = 2e-5,  # Lower LR for medical accuracy\n",
    "        logging_steps = 10,\n",
    "        optim = \"adamw_8bit\",\n",
    "        weight_decay = 0.01,\n",
    "        lr_scheduler_type = \"cosine\",  # Cosine for smooth convergence\n",
    "        seed = 42,\n",
    "        output_dir = \"../models/clinic-chatbot\",\n",
    "        save_strategy = \"epoch\",  # Save after each epoch\n",
    "        save_total_limit = 2,  # Keep only 2 best checkpoints\n",
    "        fp16 = not torch.cuda.is_bf16_supported(),\n",
    "        bf16 = torch.cuda.is_bf16_supported(),\n",
    "        report_to = \"none\",\n",
    "    ),\n",
    ")"
   ]
  },
  {
   "cell_type": "code",
   "execution_count": 10,
   "id": "acf369b7",
   "metadata": {},
   "outputs": [
    {
     "name": "stderr",
     "output_type": "stream",
     "text": [
      "Map (num_proc=20): 100%|██████████| 100/100 [00:00<00:00, 141.45 examples/s]"
     ]
    },
    {
     "name": "stdout",
     "output_type": "stream",
     "text": [
      "Training dataset preview:\n",
      "Total examples: 100\n",
      "Sample input_ids length: 208\n"
     ]
    },
    {
     "name": "stderr",
     "output_type": "stream",
     "text": [
      "\n"
     ]
    }
   ],
   "source": [
    "\n",
    "# Train only on model responses (not user inputs or system prompts)\n",
    "from unsloth.chat_templates import train_on_responses_only\n",
    "\n",
    "trainer = train_on_responses_only(\n",
    "    trainer,\n",
    "    instruction_part = \"<start_of_turn>user\\n\",\n",
    "    response_part = \"<start_of_turn>model\\n\",\n",
    ")\n",
    "\n",
    "print(\"Training dataset preview:\")\n",
    "print(f\"Total examples: {len(trainer.train_dataset)}\")\n",
    "print(f\"Sample input_ids length: {len(trainer.train_dataset[0]['input_ids'])}\")"
   ]
  },
  {
   "cell_type": "code",
   "execution_count": 11,
   "id": "74104835",
   "metadata": {},
   "outputs": [
    {
     "name": "stdout",
     "output_type": "stream",
     "text": [
      "Full prompt:\n",
      "<bos><bos><start_of_turn>user\n",
      "You are a professional medical doctor. When a patient describes their symptoms, provide a structured prescription response in JSON format with: prescription_text, medicine_name, dose_size, frequency, duration, and speech (natural language explanation). I have eye redness and itching.<end_of_turn>\n",
      "<start_of_turn>model\n",
      "{\n",
      "  \"prescription_text\": \"You may have Eye infection. Take Ofloxacin Eye Drops as prescribed for relief.\",\n",
      "  \"medicine_name\": \"Ofloxacin Eye Drops\",\n",
      "  \"dose_size\": \"2 drops\",\n",
      "  \"frequency\": \"Twice daily\",\n",
      "  \"duration\": \"5 days\",\n",
      "  \"speech\": \"You may have Eye infection. Take Ofloxacin Eye Drops as prescribed for relief. I'm prescribing Ofloxacin Eye Drops. Please take 2 drops twice daily for 5 days. Make sure to follow the dosage instructions carefully and contact me if symptoms persist or worsen.\"\n",
      "}<end_of_turn>\n",
      "\n",
      "\n",
      "================================================================================\n",
      "\n",
      "Only training on (labels != -100):\n",
      "{\n",
      "  \"prescription_text\": \"You may have Eye infection. Take Ofloxacin Eye Drops as prescribed for relief.\",\n",
      "  \"medicine_name\": \"Ofloxacin Eye Drops\",\n",
      "  \"dose_size\": \"2 drops\",\n",
      "  \"frequency\": \"Twice daily\",\n",
      "  \"duration\": \"5 days\",\n",
      "  \"speech\": \"You may have Eye infection. Take Ofloxacin Eye Drops as prescribed for relief. I'm prescribing Ofloxacin Eye Drops. Please take 2 drops twice daily for 5 days. Make sure to follow the dosage instructions carefully and contact me if symptoms persist or worsen.\"\n",
      "}<end_of_turn>\n",
      "\n"
     ]
    }
   ],
   "source": [
    "# Verify training setup - check what parts are being trained\n",
    "sample_idx = 10\n",
    "print(\"Full prompt:\")\n",
    "print(tokenizer.decode(trainer.train_dataset[sample_idx][\"input_ids\"]))\n",
    "print(\"\\n\" + \"=\"*80 + \"\\n\")\n",
    "print(\"Only training on (labels != -100):\")\n",
    "print(tokenizer.decode([x if x != -100 else tokenizer.pad_token_id for x in trainer.train_dataset[sample_idx][\"labels\"]]).replace(tokenizer.pad_token, \"\"))"
   ]
  },
  {
   "cell_type": "code",
   "execution_count": null,
   "id": "05b20be4",
   "metadata": {},
   "outputs": [
    {
     "name": "stdout",
     "output_type": "stream",
     "text": [
      "🚀 Starting training...\n",
      "Total steps: ~37 steps (3 epochs, batch_size=2, grad_accum=4)\n",
      "Expected training time: 15-30 minutes depending on GPU\n",
      "\n"
     ]
    },
    {
     "name": "stderr",
     "output_type": "stream",
     "text": [
      "==((====))==  Unsloth - 2x faster free finetuning | Num GPUs used = 1\n",
      "   \\\\   /|    Num examples = 100 | Num Epochs = 3 | Total steps = 39\n",
      "O^O/ \\_/ \\    Batch size per device = 2 | Gradient accumulation steps = 4\n",
      "\\        /    Data Parallel GPUs = 1 | Total batch size (2 x 4 x 1) = 8\n",
      " \"-____-\"     Trainable parameters = 32,788,480 of 4,332,867,952 (0.76% trained)\n"
     ]
    },
    {
     "name": "stdout",
     "output_type": "stream",
     "text": [
      "Unsloth: Will smartly offload gradients to save VRAM!\n"
     ]
    },
    {
     "data": {
      "text/html": [
       "\n",
       "    <div>\n",
       "      \n",
       "      <progress value='39' max='39' style='width:300px; height:20px; vertical-align: middle;'></progress>\n",
       "      [39/39 01:41, Epoch 3/3]\n",
       "    </div>\n",
       "    <table border=\"1\" class=\"dataframe\">\n",
       "  <thead>\n",
       " <tr style=\"text-align: left;\">\n",
       "      <th>Step</th>\n",
       "      <th>Training Loss</th>\n",
       "    </tr>\n",
       "  </thead>\n",
       "  <tbody>\n",
       "    <tr>\n",
       "      <td>10</td>\n",
       "      <td>1.925800</td>\n",
       "    </tr>\n",
       "    <tr>\n",
       "      <td>20</td>\n",
       "      <td>1.181200</td>\n",
       "    </tr>\n",
       "    <tr>\n",
       "      <td>30</td>\n",
       "      <td>0.706200</td>\n",
       "    </tr>\n",
       "  </tbody>\n",
       "</table><p>"
      ],
      "text/plain": [
       "<IPython.core.display.HTML object>"
      ]
     },
     "metadata": {},
     "output_type": "display_data"
    },
    {
     "name": "stdout",
     "output_type": "stream",
     "text": [
      "\n",
      "✅ Training completed!\n",
      "Final loss: 1.1131\n"
     ]
    }
   ],
   "source": [
    "# Start training\n",
    "print(\"🚀 Starting training...\")\n",
    "print(f\"Total steps: ~{len(dataset) * 3 // (2 * 4)} steps (3 epochs, batch_size=2, grad_accum=4)\")\n",
    "print(\"Expected training time: 15-30 minutes depending on GPU\\n\")\n",
    "\n",
    "trainer_stats = trainer.train()\n",
    "\n",
    "print(\"\\nTraining completed!\")\n",
    "print(f\"Final loss: {trainer_stats.training_loss:.4f}\")"
   ]
  },
  {
   "cell_type": "code",
   "execution_count": null,
   "id": "554cefa8",
   "metadata": {},
   "outputs": [
    {
     "name": "stdout",
     "output_type": "stream",
     "text": [
      "🏥 Testing Fine-tuned Clinic Chatbot\n",
      "================================================================================\n",
      "\n",
      "PATIENT: I have severe headache and light sensitivity.\n",
      "DOCTOR PRESCRIPTION:\n",
      "{\n",
      "  \"prescription_text\": \"Please see below for your prescription.\",\n",
      "  \"medicine_name\": \"Sumatriptan 50mg\",\n",
      "  \"dose_size\": \"1 tablet\",\n",
      "  \"frequency\": \"As needed for headache, typically every 4-6 hours.\",\n",
      "  \"duration\": \"Use as directed.  Do not exceed 2 tablets in 24 hours.\",\n",
      "  \"speech\": \"You have been prescribed Sumatriptan 50mg tablets for your severe headache and light sensitivity. Take one tablet as needed for your headache, typically every 4-6 hours. Do not exceed two tablets in a 24-hour period.  If your symptoms persist or worsen, please contact your doctor immediately.\"\n",
      "}\n",
      "\n",
      "💬 DOCTOR SAYS: You have been prescribed Sumatriptan 50mg tablets for your severe headache and light sensitivity. Take one tablet as needed for your headache, typically every 4-6 hours. Do not exceed two tablets in a 24-hour period.  If your symptoms persist or worsen, please contact your doctor immediately.\n",
      "\n",
      "--------------------------------------------------------------------------------\n",
      "\n",
      "PATIENT: I have nausea and vomiting.\n",
      "DOCTOR PRESCRIPTION:\n",
      "{\n",
      "  \"prescription_text\": \"Please see below for a prescription for your symptoms.\",\n",
      "  \"medicine_name\": \"Ondansetron\",\n",
      "  \"dose_size\": \"8 mg\",\n",
      "  \"frequency\": \"As needed, every 4-6 hours\",\n",
      "  \"duration\": \"7 days\",\n",
      "  \"speech\": \"You have been prescribed Ondansetron 8mg as needed for nausea and vomiting. Take it as directed, typically every 4-6 hours when you experience symptoms. This medication should be taken for a duration of 7 days. Please contact your doctor if symptoms persist or worsen.\"\n",
      "}\n",
      "\n",
      "💬 DOCTOR SAYS: You have been prescribed Ondansetron 8mg as needed for nausea and vomiting. Take it as directed, typically every 4-6 hours when you experience symptoms. This medication should be taken for a duration of 7 days. Please contact your doctor if symptoms persist or worsen.\n",
      "\n",
      "--------------------------------------------------------------------------------\n",
      "\n",
      "PATIENT: I have joint pain in my knees.\n",
      "DOCTOR PRESCRIPTION:\n",
      "{\n",
      "  \"prescription_text\": \"Please fill the following prescription.  If symptoms persist or worsen, contact your physician.\",\n",
      "  \"medicine_name\": \"Ibuprofen\",\n",
      "  \"dose_size\": \"200mg\",\n",
      "  \"frequency\": \"Every 6-8 hours as needed\",\n",
      "  \"duration\": \"For 7 days\",\n",
      "  \"speech\": \"You have been prescribed Ibuprofen 200mg every 6-8 hours as needed for 7 days. Take as directed. If you have any questions or concerns, please contact your physician.\"\n",
      "}\n",
      "\n",
      "💬 DOCTOR SAYS: You have been prescribed Ibuprofen 200mg every 6-8 hours as needed for 7 days. Take as directed. If you have any questions or concerns, please contact your physician.\n",
      "\n",
      "--------------------------------------------------------------------------------\n",
      "\n",
      "PATIENT: I have persistent cough with phlegm.\n",
      "DOCTOR PRESCRIPTION:\n",
      "{\n",
      "  \"prescription_text\": \"Please see below for a prescription for your cough and phlegm. Please read the instructions carefully.\",\n",
      "  \"medicine_name\": \"Guaifenesin\",\n",
      "  \"dose_size\": \"1000mg\",\n",
      "  \"frequency\": \"Every 6 hours as needed\",\n",
      "  \"duration\": \"7 days\",\n",
      "  \"speech\": \"You have been prescribed Guaifenesin. Take 1000mg every 6 hours as needed for a duration of 7 days. This medication will help to loosen and thin the mucus in your chest, making it easier to cough up.  If your symptoms worsen or persist after 7 days, please consult your doctor.\"\n",
      "}\n",
      "\n",
      "💬 DOCTOR SAYS: You have been prescribed Guaifenesin. Take 1000mg every 6 hours as needed for a duration of 7 days. This medication will help to loosen and thin the mucus in your chest, making it easier to cough up.  If your symptoms worsen or persist after 7 days, please consult your doctor.\n",
      "\n",
      "--------------------------------------------------------------------------------\n",
      "\n",
      "PATIENT: I have difficulty sleeping and anxiety.\n",
      "DOCTOR PRESCRIPTION:\n",
      "{\n",
      "  \"prescription_text\": \"Please fill the following prescription.  Do not exceed the prescribed dosage.\",\n",
      "  \"medicine_name\": \"Sertraline\",\n",
      "  \"dose_size\": \"25mg\",\n",
      "  \"frequency\": \"Once daily\",\n",
      "  \"duration\": \"6 weeks\",\n",
      "  \"speech\": \"This prescription is for Sertraline 25mg to be taken once a day for a period of 6 weeks. This medication is prescribed to help manage your anxiety and difficulty sleeping. It is important to take this medication as directed and to contact your doctor if you experience any concerning side effects. Please follow up with me in 6 weeks to discuss your progress.\"\n",
      "}\n",
      "\n",
      "💬 DOCTOR SAYS: This prescription is for Sertraline 25mg to be taken once a day for a period of 6 weeks. This medication is prescribed to help manage your anxiety and difficulty sleeping. It is important to take this medication as directed and to contact your doctor if you experience any concerning side effects. Please follow up with me in 6 weeks to discuss your progress.\n",
      "\n",
      "--------------------------------------------------------------------------------\n",
      "\n"
     ]
    }
   ],
   "source": [
    "# Enable fast inference mode\n",
    "FastLanguageModel.for_inference(model)\n",
    "\n",
    "def get_prescription(patient_symptoms, max_new_tokens=512, temperature=0.3):\n",
    "    \"\"\"Get prescription from fine-tuned doctor model\"\"\"\n",
    "    \n",
    "    conversation = [\n",
    "        {\n",
    "            \"role\": \"system\",\n",
    "            \"content\": \"You are a professional medical doctor. When a patient describes their symptoms, provide a structured prescription response in JSON format with: prescription_text, medicine_name, dose_size, frequency, duration, and speech (natural language explanation).\"\n",
    "        },\n",
    "        {\n",
    "            \"role\": \"user\",\n",
    "            \"content\": patient_symptoms\n",
    "        }\n",
    "    ]\n",
    "    \n",
    "    prompt = tokenizer.apply_chat_template(conversation, tokenize=False, add_generation_prompt=True)\n",
    "    inputs = tokenizer(prompt, return_tensors=\"pt\").to(model.device)\n",
    "    \n",
    "    with torch.no_grad():\n",
    "        outputs = model.generate(\n",
    "            **inputs,\n",
    "            max_new_tokens=max_new_tokens,\n",
    "            temperature=temperature,  # Lower temp for more consistent medical responses\n",
    "            top_p=0.9,\n",
    "            do_sample=True,\n",
    "            eos_token_id=tokenizer.eos_token_id,\n",
    "            pad_token_id=tokenizer.pad_token_id,\n",
    "        )\n",
    "    \n",
    "    response = tokenizer.decode(outputs[0][inputs[\"input_ids\"].shape[1]:], skip_special_tokens=True).strip()\n",
    "    \n",
    "    try:\n",
    "        # Try to parse JSON response\n",
    "        prescription = json.loads(response)\n",
    "        return prescription\n",
    "    except:\n",
    "        # If not valid JSON, return as text\n",
    "        return {\"raw_response\": response}\n",
    "\n",
    "# Test with medical symptoms\n",
    "test_cases = [\n",
    "    \"I have severe headache and light sensitivity.\",\n",
    "    \"I have nausea and vomiting.\",\n",
    "    \"I have joint pain in my knees.\",\n",
    "    \"I have persistent cough with phlegm.\",\n",
    "    \"I have difficulty sleeping and anxiety.\",\n",
    "]\n",
    "\n",
    "print(\"🏥 Testing Fine-tuned Clinic Chatbot\\n\" + \"=\"*80 + \"\\n\")\n",
    "\n",
    "for symptom in test_cases:\n",
    "    print(f\"PATIENT: {symptom}\")\n",
    "    prescription = get_prescription(symptom)\n",
    "    print(f\"DOCTOR PRESCRIPTION:\")\n",
    "    print(json.dumps(prescription, indent=2))\n",
    "    \n",
    "    # Print speech field separately for clarity\n",
    "    if 'speech' in prescription:\n",
    "        print(f\"\\nDOCTOR SAYS: {prescription['speech']}\")\n",
    "    \n",
    "    print(\"\\n\" + \"-\"*80 + \"\\n\")"
   ]
  },
  {
   "cell_type": "code",
   "execution_count": null,
   "id": "71d24681",
   "metadata": {},
   "outputs": [
    {
     "name": "stdout",
     "output_type": "stream",
     "text": [
      "💾 Saving fine-tuned model...\n",
      "✅ LoRA adapter saved to ../models/clinic-chatbot-lora\n"
     ]
    }
   ],
   "source": [
    "# Save the fine-tuned model\n",
    "print(\"Saving fine-tuned model...\")\n",
    "\n",
    "# Save LoRA adapter (small, ~100MB)\n",
    "model.save_pretrained(\"../models/clinic-chatbot-lora\")\n",
    "tokenizer.save_pretrained(\"../models/clinic-chatbot-lora\")\n",
    "\n",
    "print(\"LoRA adapter saved to ../models/clinic-chatbot-lora\")\n",
    "\n"
   ]
  }
 ],
 "metadata": {
  "kernelspec": {
   "display_name": "venv",
   "language": "python",
   "name": "python3"
  },
  "language_info": {
   "codemirror_mode": {
    "name": "ipython",
    "version": 3
   },
   "file_extension": ".py",
   "mimetype": "text/x-python",
   "name": "python",
   "nbconvert_exporter": "python",
   "pygments_lexer": "ipython3",
   "version": "3.12.3"
  }
 },
 "nbformat": 4,
 "nbformat_minor": 5
}
