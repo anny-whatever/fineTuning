{
 "cells": [
  {
   "cell_type": "code",
   "execution_count": 2,
   "id": "0b4fb9eb",
   "metadata": {},
   "outputs": [
    {
     "name": "stderr",
     "output_type": "stream",
     "text": [
      "Fetching 12 files: 100%|██████████| 12/12 [05:15<00:00, 26.33s/it]\n"
     ]
    }
   ],
   "source": [
    "from huggingface_hub import snapshot_download\n",
    "\n",
    "# Download to your project\n",
    "model_path = snapshot_download(\n",
    "    repo_id=\"Qwen/Qwen3-1.7B\",  # or whatever model\n",
    "    local_dir=\"../models/Qwen3-1.7B\"\n",
    ")\n",
    "\n",
    "# Now fine-tune from local path\n",
    "# from transformers import AutoModelForCausalLM, AutoTokenizer\n",
    "\n",
    "# model = AutoModelForCausalLM.from_pretrained(\"./models/bert-base\")\n",
    "# tokenizer = AutoTokenizer.from_pretrained(\"./models/bert-base\")\n",
    "\n",
    "# Your fine-tuning code here..."
   ]
  }
 ],
 "metadata": {
  "kernelspec": {
   "display_name": "venv",
   "language": "python",
   "name": "python3"
  },
  "language_info": {
   "codemirror_mode": {
    "name": "ipython",
    "version": 3
   },
   "file_extension": ".py",
   "mimetype": "text/x-python",
   "name": "python",
   "nbconvert_exporter": "python",
   "pygments_lexer": "ipython3",
   "version": "3.12.3"
  }
 },
 "nbformat": 4,
 "nbformat_minor": 5
}
